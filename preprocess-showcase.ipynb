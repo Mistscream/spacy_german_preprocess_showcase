{
 "cells": [
  {
   "cell_type": "code",
   "execution_count": 1,
   "metadata": {},
   "outputs": [],
   "source": [
    "from spacy_preprocessing.preprocess import Preprocess"
   ]
  },
  {
   "cell_type": "markdown",
   "metadata": {},
   "source": [
    "# Beispiel für Preprocessing eines Plozeiberichtes der Berliner Polizei"
   ]
  },
  {
   "cell_type": "markdown",
   "metadata": {},
   "source": [
    "**Beispieltext:**"
   ]
  },
  {
   "cell_type": "code",
   "execution_count": 2,
   "metadata": {},
   "outputs": [
    {
     "name": "stdout",
     "output_type": "stream",
     "text": [
      "Der 18-jährige blinde Passant wurde am 18.07.2018 um 15.30 Uhr tot in der Braunschweiger Straße mit mehreren Messerstichen aufgefunden. Die Polizeidirektion Neukölln ermittelt und bittet um Hilfe.\n"
     ]
    }
   ],
   "source": [
    "#text = \"Polizeimeldung vom 06.11.2018. Neukölln. Nr. 2331. Gestern Nachmittag kam es in Neukölln zu einer versuchten räuberischen Erpressung an einem Obdachlosen. Ein Zeuge beobachtete gegen 15.30 Uhr, wie ein Mann auf dem Bahnsteig des U-Bahnhofs Boddinstraße von einem offensichtlich Obdachlosen Geld forderte und diesen dabei mehrfach ins Gesicht schlug. Der mutmaßliche Täter und ein Begleiter wollten danach den Bahnhof mit der U-Bahn verlassen. Durch alarmierte Polizeikräfte konnte die Abfahrt des Zuges verhindert und der 34-jährige Tatverdächtige festgenommen werden. Eine freiwillige Atemalkoholmessung ergab bei ihm einen Wert von zirka 1,2 Promille. Nach einer erkennungsdienstlichen Behandlung wurde er der Kriminalpolizei übergeben. Der Obdachlose entfernte sich unerkannt.\"\n",
    "#text = \"Polizeimeldung vom 30.07.2018. Neukölln. Nr. 1589. Gegen 2.30 Uhr bemerkten Anwohner eines Mehrfamilienhauses in der Emser Straße in Neukölln, dass in einem Treppenaufgang des Hinterhauses dort abgestellte Gegenstände brannten. Ein Mitbewohner löschte das Feuer noch vor dem Eintreffen der Feuerwehr. Ein abgestellter Trolli und eine angelehnte Fußmatte wurden vollständig zerstört. Personen kamen nicht zu Schaden. Ein Brandkommissariat des Landeskriminalamtes Berlin hat die weiteren Ermittlungen übernommen.\"\n",
    "text = \"Der 18-jährige blinde Passant wurde am 18.07.2018 um 15.30 Uhr tot in der Braunschweiger Straße mit mehreren Messerstichen aufgefunden. Die Polizeidirektion Neukölln ermittelt und bittet um Hilfe.\"\n",
    "#text = \"Polizeimeldung vom 31.12.2015. Spandau. Nr. 3273. In Siemensstadt brachten gestern Abend Rettungskräfte der Berliner Feuerwehr einen verletzten Radfahrer in ein Krankenhaus. Den bisherigen Ermittlungen zufolge stürzte gegen 21.35 Uhr der 75-Jährige mit seinem Rad in der Wattstraße und zog sich eine schwere Kopfverletzung zu. Ärzte nahmen den Verletzten stationär auf. Die Ermittlungen zur Unfallursache übernahm der Verkehrsermittlungsdienst der Polizeidirektion 2.\"\n",
    "print(text)"
   ]
  },
  {
   "cell_type": "markdown",
   "metadata": {},
   "source": [
    "**Init Preprocess Object mit Beispieltext:**  \n",
    "Weitere Einstellungsparameter für das Preprocess Objekt:  \n",
    " - **split_in_sentences** (default=True): Tokens des Preprocess-Ergebnisses werden abhängig von Sätzen in Sub-Arrays gespeichert\n",
    " - **with_pos** (default=False): \n",
    "   * False: nur Tokens werden gespeichert\n",
    "   * True: Speichern der Position des Tokens im Originaltext als Tripel: (Anfangsbuchstabe, Endbuchstabe, Token)"
   ]
  },
  {
   "cell_type": "code",
   "execution_count": 3,
   "metadata": {},
   "outputs": [],
   "source": [
    "preprocessed = Preprocess(text)"
   ]
  },
  {
   "cell_type": "markdown",
   "metadata": {},
   "source": [
    "**Ermittlung der Noun-Phrases und Named-Entities:**  \n",
    "Intern werden als ersten die Indexe (Spacy-Token-Index) der Noun-Phrases und Named Entities als Listen generiert.  \n",
    "Die Noun-Phrases werden zusätzlich von ihren Stopwörtern und Punctuation bereinigt.\n",
    "Die Index-Listen werden gemerged, um für den Preprocess die Indexe vorzuhalten, welche definitiv in dem aufbereiteten Text vorkommen sollten.  \n",
    "Die Indexe der Token sind für, um sicherzustellen, dass diese Tokens definitiv in dem Preprocess-Ergebnis beibehalten werden. "
   ]
  },
  {
   "cell_type": "code",
   "execution_count": 4,
   "metadata": {},
   "outputs": [
    {
     "name": "stdout",
     "output_type": "stream",
     "text": [
      "Noun-Phrases, cleaned (default): \n",
      " [1, 3, 4, 5, 8, 10, 11, 15, 16, 18, 19, 23, 24, 29]\n",
      "\n",
      "Named-Entities (default): \n",
      " [15, 16, 24]\n",
      "\n",
      "Maintain-Indeces, generated put of Noun-chunks and Named-Entities: \n",
      " [1, 3, 4, 5, 8, 10, 11, 15, 16, 18, 19, 23, 24, 29]\n"
     ]
    }
   ],
   "source": [
    "# Noun-Phrases, nur Indexe als 1d-Array:\n",
    "print(\"Noun-Phrases, cleaned (default): \\n\", preprocessed.noun_chunks)\n",
    "\n",
    "# Named-Entities (1d-Array):\n",
    "print(\"\\nNamed-Entities (default): \\n\", preprocessed.named_entities)\n",
    "\n",
    "# merged Noun-Phrases and Named-Entities --> must have maintain for preprocess\n",
    "print(\"\\nMaintain-Indeces, generated put of Noun-chunks and Named-Entities: \\n\", preprocessed.maintain_indeces)"
   ]
  },
  {
   "cell_type": "markdown",
   "metadata": {},
   "source": [
    "**Mehr Infos zu Noun-Phrases und Named-Entities:**  \n",
    "Mit Methoden der Preprocess Klasse können bei Bedarf auch Ausgaben generiert werden, die detailiertere Infos zu den Noun-Phrases und Named-Entitites enthalten."
   ]
  },
  {
   "cell_type": "code",
   "execution_count": 5,
   "metadata": {},
   "outputs": [
    {
     "name": "stdout",
     "output_type": "stream",
     "text": [
      "Noun-Phrases: \n",
      " [[(0, Der), (1, 18), (2, -), (3, jährige), (4, blinde), (5, Passant)], [(8, 18.07.2018)], [(10, 15.30), (11, Uhr)], [(14, der), (15, Braunschweiger), (16, Straße)], [(18, mehreren), (19, Messerstichen)], [(22, Die), (23, Polizeidirektion), (24, Neukölln)], [(29, Hilfe)]]\n",
      "\n",
      "Named-Entities: \n",
      " [[(15, Braunschweiger, 'LOC'), (16, Straße, 'LOC')], [(24, Neukölln, 'LOC')]]\n"
     ]
    }
   ],
   "source": [
    "print(\"Noun-Phrases: \\n\", preprocessed.get_noun_chunks(only_indices=False, cleaned=False, flattened=False))\n",
    "\n",
    "print(\"\\nNamed-Entities: \\n\", preprocessed.get_named_entities(only_indeces=False, flattened=False))"
   ]
  },
  {
   "cell_type": "markdown",
   "metadata": {},
   "source": [
    "## Preprocess Ergebnis:  \n",
    "Das **preprocessed-Attribut** hält den aufbereiteten Text als Array mit Sub-Arrays (Sätze) gefüllt mit den bedeutungstragenden lemmatisierten Tokens. "
   ]
  },
  {
   "cell_type": "code",
   "execution_count": 6,
   "metadata": {},
   "outputs": [
    {
     "name": "stdout",
     "output_type": "stream",
     "text": [
      "Der 18-jährige blinde Passant wurde am 18.07.2018 um 15.30 Uhr tot in der Braunschweiger Straße mit mehreren Messerstichen aufgefunden. Die Polizeidirektion Neukölln ermittelt und bittet um Hilfe.\n"
     ]
    }
   ],
   "source": [
    "# Original-Text\n",
    "print(text)"
   ]
  },
  {
   "cell_type": "code",
   "execution_count": 7,
   "metadata": {},
   "outputs": [
    {
     "name": "stdout",
     "output_type": "stream",
     "text": [
      "Preprocessed Text split by sentences (default): \n",
      " [['18', 'jährig', 'blind', 'passant', '18.07.2018', '15.30', 'uhr', 'tot', 'braunschweiger', 'straße', 'viel', 'messerstich', 'auffinden'], ['polizeidirektion', 'neukölln', 'ermitteln', 'bitten', 'hilfe']]\n"
     ]
    }
   ],
   "source": [
    "print(\"Preprocessed Text split by sentences (default): \\n\", preprocessed.preprocessed)"
   ]
  },
  {
   "cell_type": "markdown",
   "metadata": {},
   "source": [
    "**Customize Preprocess:**  \n",
    "Das Preprocess Object hält außerdem eine preprocess() Methode, mit der das preprocessing konfiguriert werden kann. Die gleicher Einstellungsparameter können auch bei der Initialisierung des Preprocess-Objektes angegeben werden. Das Ergebniss des Preprocessings würde dann im preprocessed-Attribut gespeichert werden."
   ]
  },
  {
   "cell_type": "code",
   "execution_count": 8,
   "metadata": {},
   "outputs": [
    {
     "name": "stdout",
     "output_type": "stream",
     "text": [
      "Preprocessed flattened Text (ignore sentences): \n",
      " ['18', 'jährig', 'blind', 'passant', '18.07.2018', '15.30', 'uhr', 'tot', 'braunschweiger', 'straße', 'viel', 'messerstich', 'auffinden', 'polizeidirektion', 'neukölln', 'ermitteln', 'bitten', 'hilfe']\n"
     ]
    }
   ],
   "source": [
    "print(\"Preprocessed flattened Text (ignore sentences): \\n\", preprocessed.preprocess(sentence_split=False))"
   ]
  },
  {
   "cell_type": "code",
   "execution_count": 9,
   "metadata": {},
   "outputs": [
    {
     "name": "stdout",
     "output_type": "stream",
     "text": [
      "Preprocessed with Token Position in Text: \n",
      " [[(4, 6, '18'), (7, 14, 'jährig'), (15, 21, 'blind'), (22, 29, 'passant'), (39, 49, '18.07.2018'), (53, 58, '15.30'), (59, 62, 'uhr'), (63, 66, 'tot'), (74, 88, 'braunschweiger'), (89, 95, 'straße'), (100, 108, 'viel'), (109, 122, 'messerstich'), (123, 134, 'auffinden')], [(140, 156, 'polizeidirektion'), (157, 165, 'neukölln'), (166, 175, 'ermitteln'), (180, 186, 'bitten'), (190, 195, 'hilfe')]]\n"
     ]
    }
   ],
   "source": [
    "print(\"Preprocessed with Token Position in Text: \\n\", preprocessed.preprocess(with_pos=True))"
   ]
  }
 ],
 "metadata": {
  "kernelspec": {
   "display_name": "My Great Env",
   "language": "python",
   "name": "mygreatenv"
  },
  "language_info": {
   "codemirror_mode": {
    "name": "ipython",
    "version": 3
   },
   "file_extension": ".py",
   "mimetype": "text/x-python",
   "name": "python",
   "nbconvert_exporter": "python",
   "pygments_lexer": "ipython3",
   "version": "3.7.1"
  }
 },
 "nbformat": 4,
 "nbformat_minor": 1
}
